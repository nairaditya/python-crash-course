{
  "nbformat": 4,
  "nbformat_minor": 0,
  "metadata": {
    "colab": {
      "provenance": [],
      "authorship_tag": "ABX9TyMollErmUvfdo/zIs65MaIN",
      "include_colab_link": true
    },
    "kernelspec": {
      "name": "python3",
      "display_name": "Python 3"
    },
    "language_info": {
      "name": "python"
    }
  },
  "cells": [
    {
      "cell_type": "markdown",
      "metadata": {
        "id": "view-in-github",
        "colab_type": "text"
      },
      "source": [
        "<a href=\"https://colab.research.google.com/github/nairaditya/python-crash-course/blob/main/SystemODEs.ipynb\" target=\"_parent\"><img src=\"https://colab.research.google.com/assets/colab-badge.svg\" alt=\"Open In Colab\"/></a>"
      ]
    },
    {
      "cell_type": "code",
      "execution_count": null,
      "metadata": {
        "id": "LFoy5cXOoRIA"
      },
      "outputs": [],
      "source": []
    },
    {
      "cell_type": "markdown",
      "source": [
        "## Systems of Ordinary Differential Equations (ODEs)\n",
        "\n",
        "- Many real-world problems involve multiple interacting variables, which can be modeled using systems of ODEs.\n",
        "- Example: Predator-Prey Model (Lotka-Volterra Equations)\n"
      ],
      "metadata": {
        "id": "9Ushad8vqKjz"
      }
    },
    {
      "cell_type": "code",
      "source": [
        "# Define the system of ODEs for the predator-prey model\n",
        "def predator_prey_system(z, t, alpha, beta, delta, gamma):\n",
        "    prey, predator = z\n",
        "    dzdt = [alpha * prey - beta * prey * predator,\n",
        "            delta * prey * predator - gamma * predator]\n",
        "    return dzdt\n",
        "\n",
        "# Initial conditions: 40 prey and 9 predators\n",
        "initial_conditions = [40, 9]\n",
        "\n",
        "# Parameters\n",
        "alpha = 0.1  # Prey birth rate\n",
        "beta = 0.02  # Predation rate\n",
        "delta = 0.01 # Predator birth rate per prey eaten\n",
        "gamma = 0.1  # Predator death rate\n",
        "\n",
        "# Time points\n",
        "t = np.linspace(0, 200, 1000)  # from t=0 to t=200\n"
      ],
      "metadata": {
        "id": "z7Cp_cvxqLW-"
      },
      "execution_count": null,
      "outputs": []
    },
    {
      "cell_type": "code",
      "source": [
        "# Solve the system of ODEs\n",
        "solution = odeint(predator_prey_system, initial_conditions, t, args=(alpha, beta, delta, gamma))\n",
        "\n",
        "# Extract the solutions for prey and predator\n",
        "prey, predator = solution.T\n"
      ],
      "metadata": {
        "id": "PUu9PV3RqT--"
      },
      "execution_count": null,
      "outputs": []
    },
    {
      "cell_type": "code",
      "source": [
        "# Plot the results\n",
        "plt.plot(t, prey, label='Prey')\n",
        "plt.plot(t, predator, label='Predator')\n",
        "plt.xlabel('Time')\n",
        "plt.ylabel('Population')\n",
        "plt.title('Predator-Prey Model')\n",
        "plt.legend()\n",
        "plt.grid(True)\n",
        "plt.show()\n"
      ],
      "metadata": {
        "id": "Bam81iiEqVod"
      },
      "execution_count": null,
      "outputs": []
    }
  ]
}