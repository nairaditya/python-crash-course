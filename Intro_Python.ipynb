{
  "nbformat": 4,
  "nbformat_minor": 0,
  "metadata": {
    "colab": {
      "provenance": [],
      "authorship_tag": "ABX9TyM1qNuCCWCDH90Kht8oWZJ4",
      "include_colab_link": true
    },
    "kernelspec": {
      "name": "python3",
      "display_name": "Python 3"
    },
    "language_info": {
      "name": "python"
    }
  },
  "cells": [
    {
      "cell_type": "markdown",
      "metadata": {
        "id": "view-in-github",
        "colab_type": "text"
      },
      "source": [
        "<a href=\"https://colab.research.google.com/github/nairaditya/python-crash-course/blob/main/Intro_Python.ipynb\" target=\"_parent\"><img src=\"https://colab.research.google.com/assets/colab-badge.svg\" alt=\"Open In Colab\"/></a>"
      ]
    },
    {
      "cell_type": "markdown",
      "source": [
        "# Introduction to Python for Solving ODEs\n",
        "\n",
        "In this notebook, we'll learn basic Python programming skills and how to use them to solve an ordinary differential equation (ODE)."
      ],
      "metadata": {
        "id": "q7FsW_68NFAc"
      }
    },
    {
      "cell_type": "markdown",
      "source": [
        "## What is Python?\n",
        "\n",
        "- Python is a popular programming language known for its simplicity and readability.\n",
        "- Widely used in scientific computing, data analysis, artificial intelligence, and more.\n",
        "- Easy to learn and fun to use!\n"
      ],
      "metadata": {
        "id": "p0xuJICXNBxZ"
      }
    },
    {
      "cell_type": "markdown",
      "source": [
        "## Basic Python Syntax\n",
        "\n",
        "- Variables and Data Types\n",
        "\n"
      ],
      "metadata": {
        "id": "Gs6_fPgfM5he"
      }
    },
    {
      "cell_type": "code",
      "source": [
        "# This is a comment\n",
        "x = 5       # integer\n",
        "y = 3.14    # float\n",
        "name = \"Alice\"  # string\n",
        "\n",
        "print(x, y, name)"
      ],
      "metadata": {
        "id": "Tlp7g5V8M4TE"
      },
      "execution_count": null,
      "outputs": []
    },
    {
      "cell_type": "markdown",
      "source": [
        "## Defining Functions\n",
        "\n",
        "- Functions allow us to reuse code\n"
      ],
      "metadata": {
        "id": "WNVvGvaZNMHK"
      }
    },
    {
      "cell_type": "code",
      "source": [
        "# Define a function to add two numbers\n",
        "def add(a, b):\n",
        "    return a + b\n",
        "\n",
        "result = add(3, 4)\n",
        "print(result)  # Output: 7\n"
      ],
      "metadata": {
        "id": "yFrAgG0fNM4-"
      },
      "execution_count": null,
      "outputs": []
    },
    {
      "cell_type": "markdown",
      "source": [
        " ## Installing Libraries\n",
        "\n",
        "- Libraries provide additional functionality\n",
        "- Use `pip` to install libraries\n"
      ],
      "metadata": {
        "id": "JiA74Td0NR_A"
      }
    },
    {
      "cell_type": "code",
      "source": [
        "!pip install numpy scipy matplotlib\n",
        "!pip install tensorflow"
      ],
      "metadata": {
        "id": "rCAbr-8hNSpo"
      },
      "execution_count": null,
      "outputs": []
    },
    {
      "cell_type": "markdown",
      "source": [
        "## Introduction to ODEs\n",
        "\n",
        "- An Ordinary Differential Equation (ODE) is an equation involving derivatives of a function.\n",
        "- Example: $\\frac{dy}{dt} = 2y$"
      ],
      "metadata": {
        "id": "lJPVjZYYNjXG"
      }
    },
    {
      "cell_type": "code",
      "source": [
        "# Import necessary libraries\n",
        "import numpy as np\n",
        "from scipy.integrate import odeint\n",
        "import matplotlib.pyplot as plt\n",
        "\n",
        "# Define the ODE function\n",
        "def dydt(y, t):\n",
        "    return 2 * y\n"
      ],
      "metadata": {
        "id": "ZzSAYy4CNgev"
      },
      "execution_count": null,
      "outputs": []
    },
    {
      "cell_type": "code",
      "source": [
        "# Initial condition\n",
        "y0 = 1\n",
        "\n",
        "# Time points where the solution is computed\n",
        "t = np.linspace(0, 2, 100)  # from t=0 to t=2\n",
        "\n",
        "# Solve the ODE\n",
        "y = odeint(dydt, y0, t)\n"
      ],
      "metadata": {
        "id": "vVZbpl03NiQy"
      },
      "execution_count": null,
      "outputs": []
    },
    {
      "cell_type": "code",
      "source": [
        "# Plot the results\n",
        "plt.plot(t, y)\n",
        "plt.xlabel('Time (t)')\n",
        "plt.ylabel('y(t)')\n",
        "plt.title('Solution of the ODE dy/dt = 2y')\n",
        "plt.grid(True)\n",
        "plt.show()\n"
      ],
      "metadata": {
        "id": "RwZo_szxNy4s"
      },
      "execution_count": null,
      "outputs": []
    }
  ]
}