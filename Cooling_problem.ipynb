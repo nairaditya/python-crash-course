{
  "nbformat": 4,
  "nbformat_minor": 0,
  "metadata": {
    "colab": {
      "provenance": [],
      "authorship_tag": "ABX9TyOupNNX17zRUmWKjHJ6YMs1",
      "include_colab_link": true
    },
    "kernelspec": {
      "name": "python3",
      "display_name": "Python 3"
    },
    "language_info": {
      "name": "python"
    }
  },
  "cells": [
    {
      "cell_type": "markdown",
      "metadata": {
        "id": "view-in-github",
        "colab_type": "text"
      },
      "source": [
        "<a href=\"https://colab.research.google.com/github/nairaditya/python-crash-course/blob/main/Cooling_problem.ipynb\" target=\"_parent\"><img src=\"https://colab.research.google.com/assets/colab-badge.svg\" alt=\"Open In Colab\"/></a>"
      ]
    },
    {
      "cell_type": "markdown",
      "source": [
        "# Solving Real-Life ODE: Cooling of a Hot Object\n",
        "\n",
        "In this notebook, we'll learn how to solve an ordinary differential equation (ODE) that models the cooling of a hot object, like a cup of coffee, using Python.\n"
      ],
      "metadata": {
        "id": "xlgdS4YNWUuk"
      }
    },
    {
      "cell_type": "markdown",
      "source": [
        "## Introduction to the Cooling Problem\n",
        "\n",
        "- Newton's Law of Cooling describes how the temperature of a hot object changes over time as it cools down to room temperature.\n",
        "- The ODE is given by:\n",
        "  \\[ \\frac{dT}{dt} = -k (T - T_{\\text{ambient}}) \\]\n",
        "- We'll solve this ODE to find out how the temperature of the coffee changes over time.\n"
      ],
      "metadata": {
        "id": "FbduL7kzWXk3"
      }
    },
    {
      "cell_type": "code",
      "source": [
        "# Import necessary libraries\n",
        "import numpy as np\n",
        "from scipy.integrate import odeint\n",
        "import matplotlib.pyplot as plt\n",
        "\n",
        "# Define the ODE function for Newton's Law of Cooling\n",
        "def cooling_ode(T, t, k, T_ambient):\n",
        "    return -k * (T - T_ambient)\n"
      ],
      "metadata": {
        "id": "7HGxLDLQWYJw"
      },
      "execution_count": 1,
      "outputs": []
    }
  ]
}